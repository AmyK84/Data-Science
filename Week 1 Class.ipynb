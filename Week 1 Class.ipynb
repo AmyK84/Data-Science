{
 "cells": [
  {
   "cell_type": "code",
   "execution_count": 3,
   "id": "92056e9b",
   "metadata": {},
   "outputs": [],
   "source": [
    "## Numeric Datatypes\n",
    "### Integers are a real number  Example -4, -3, 1, 2, 3, 4, 5\n",
    "### Floats are a real number which includes a decimal Example -7.3, -5.0, 1.341\n",
    "x = -3\n",
    "y = 1.341"
   ]
  },
  {
   "cell_type": "code",
   "execution_count": 6,
   "id": "a4dd3502",
   "metadata": {},
   "outputs": [
    {
     "name": "stdout",
     "output_type": "stream",
     "text": [
      "<class 'int'>\n"
     ]
    }
   ],
   "source": [
    "print (type(x))"
   ]
  },
  {
   "cell_type": "code",
   "execution_count": 7,
   "id": "c5f9667b",
   "metadata": {},
   "outputs": [
    {
     "name": "stdout",
     "output_type": "stream",
     "text": [
      "<class 'float'>\n"
     ]
    }
   ],
   "source": [
    "print (type(y))"
   ]
  },
  {
   "cell_type": "code",
   "execution_count": 9,
   "id": "58952bb9",
   "metadata": {},
   "outputs": [],
   "source": [
    "## Dictionaries\n",
    "## Dictionaries are collections of data values, an unordered sequence called a key:value pair.\n",
    "Cars = {\"Race car\":14,\n",
    "        \"Luxury\":5,\n",
    "       \"Economy\":2}"
   ]
  },
  {
   "cell_type": "code",
   "execution_count": 10,
   "id": "da540456",
   "metadata": {},
   "outputs": [
    {
     "name": "stdout",
     "output_type": "stream",
     "text": [
      "5\n"
     ]
    }
   ],
   "source": [
    "print(Cars[\"Luxury\"])"
   ]
  },
  {
   "cell_type": "code",
   "execution_count": 11,
   "id": "c68accbe",
   "metadata": {},
   "outputs": [
    {
     "data": {
      "text/plain": [
       "True"
      ]
     },
     "execution_count": 11,
     "metadata": {},
     "output_type": "execute_result"
    }
   ],
   "source": [
    "##Boolean\n",
    "###Verifies something is true Example below\n",
    "1<2"
   ]
  },
  {
   "cell_type": "code",
   "execution_count": 13,
   "id": "45d533a0",
   "metadata": {},
   "outputs": [
    {
     "name": "stdout",
     "output_type": "stream",
     "text": [
      "{'Meep', 'Charlie', 'Klunk', 'Nugget', 'Wade', 'Lloyd', 'Noble'}\n"
     ]
    }
   ],
   "source": [
    "## Set\n",
    "### A set's values cannot be changed and are unordered.  Unchangable also known as immutable - important vocab word!\n",
    "rat_set = {\"Lloyd\", \"Noble\", \"Klunk\", \"Charlie\", \"Meep\", \"Wade\"}\n",
    "###can add new unique items\n",
    "rat_set.add(\"Nugget\")\n",
    "print(rat_set)"
   ]
  }
 ],
 "metadata": {
  "kernelspec": {
   "display_name": "Python 3 (ipykernel)",
   "language": "python",
   "name": "python3"
  },
  "language_info": {
   "codemirror_mode": {
    "name": "ipython",
    "version": 3
   },
   "file_extension": ".py",
   "mimetype": "text/x-python",
   "name": "python",
   "nbconvert_exporter": "python",
   "pygments_lexer": "ipython3",
   "version": "3.9.7"
  }
 },
 "nbformat": 4,
 "nbformat_minor": 5
}
